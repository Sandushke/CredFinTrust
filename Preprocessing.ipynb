{
  "cells": [
    {
      "cell_type": "code",
      "execution_count": null,
      "metadata": {
        "colab": {
          "base_uri": "https://localhost:8080/"
        },
        "id": "Fo1aQLc41S7W",
        "outputId": "39f5a2aa-f413-43ce-a3b2-307a0d0b89a1"
      },
      "outputs": [
        {
          "name": "stdout",
          "output_type": "stream",
          "text": [
            "Collecting PyMuPDF\n",
            "  Downloading pymupdf-1.25.1-cp39-abi3-manylinux2014_x86_64.manylinux_2_17_x86_64.whl.metadata (3.4 kB)\n",
            "Collecting pdfplumber\n",
            "  Downloading pdfplumber-0.11.4-py3-none-any.whl.metadata (41 kB)\n",
            "\u001b[?25l     \u001b[90m━━━━━━━━━━━━━━━━━━━━━━━━━━━━━━━━━━━━━━━━\u001b[0m \u001b[32m0.0/42.0 kB\u001b[0m \u001b[31m?\u001b[0m eta \u001b[36m-:--:--\u001b[0m\r\u001b[2K     \u001b[90m━━━━━━━━━━━━━━━━━━━━━━━━━━━━━━━━━━━━━━━━\u001b[0m \u001b[32m42.0/42.0 kB\u001b[0m \u001b[31m2.9 MB/s\u001b[0m eta \u001b[36m0:00:00\u001b[0m\n",
            "\u001b[?25hRequirement already satisfied: matplotlib-venn in /usr/local/lib/python3.10/dist-packages (1.1.1)\n",
            "Requirement already satisfied: geopandas in /usr/local/lib/python3.10/dist-packages (1.0.1)\n",
            "Collecting osmnx\n",
            "  Downloading osmnx-2.0.0-py3-none-any.whl.metadata (4.8 kB)\n",
            "Requirement already satisfied: openai in /usr/local/lib/python3.10/dist-packages (1.54.5)\n",
            "Requirement already satisfied: shapely in /usr/local/lib/python3.10/dist-packages (2.0.6)\n",
            "Requirement already satisfied: shap in /usr/local/lib/python3.10/dist-packages (0.46.0)\n",
            "Collecting openai\n",
            "  Downloading openai-0.28.0-py3-none-any.whl.metadata (13 kB)\n",
            "Requirement already satisfied: requests>=2.20 in /usr/local/lib/python3.10/dist-packages (from openai) (2.32.3)\n",
            "Requirement already satisfied: tqdm in /usr/local/lib/python3.10/dist-packages (from openai) (4.66.6)\n",
            "Requirement already satisfied: aiohttp in /usr/local/lib/python3.10/dist-packages (from openai) (3.11.10)\n",
            "Collecting pdfminer.six==20231228 (from pdfplumber)\n",
            "  Downloading pdfminer.six-20231228-py3-none-any.whl.metadata (4.2 kB)\n",
            "Requirement already satisfied: Pillow>=9.1 in /usr/local/lib/python3.10/dist-packages (from pdfplumber) (11.0.0)\n",
            "Collecting pypdfium2>=4.18.0 (from pdfplumber)\n",
            "  Downloading pypdfium2-4.30.0-py3-none-manylinux_2_17_x86_64.manylinux2014_x86_64.whl.metadata (48 kB)\n",
            "\u001b[2K     \u001b[90m━━━━━━━━━━━━━━━━━━━━━━━━━━━━━━━━━━━━━━━━\u001b[0m \u001b[32m48.5/48.5 kB\u001b[0m \u001b[31m3.5 MB/s\u001b[0m eta \u001b[36m0:00:00\u001b[0m\n",
            "\u001b[?25hRequirement already satisfied: charset-normalizer>=2.0.0 in /usr/local/lib/python3.10/dist-packages (from pdfminer.six==20231228->pdfplumber) (3.4.0)\n",
            "Requirement already satisfied: cryptography>=36.0.0 in /usr/local/lib/python3.10/dist-packages (from pdfminer.six==20231228->pdfplumber) (43.0.3)\n",
            "Requirement already satisfied: matplotlib in /usr/local/lib/python3.10/dist-packages (from matplotlib-venn) (3.8.0)\n",
            "Requirement already satisfied: numpy in /usr/local/lib/python3.10/dist-packages (from matplotlib-venn) (1.26.4)\n",
            "Requirement already satisfied: scipy in /usr/local/lib/python3.10/dist-packages (from matplotlib-venn) (1.13.1)\n",
            "Requirement already satisfied: pyogrio>=0.7.2 in /usr/local/lib/python3.10/dist-packages (from geopandas) (0.10.0)\n",
            "Requirement already satisfied: packaging in /usr/local/lib/python3.10/dist-packages (from geopandas) (24.2)\n",
            "Requirement already satisfied: pandas>=1.4.0 in /usr/local/lib/python3.10/dist-packages (from geopandas) (2.2.2)\n",
            "Requirement already satisfied: pyproj>=3.3.0 in /usr/local/lib/python3.10/dist-packages (from geopandas) (3.7.0)\n",
            "Requirement already satisfied: networkx>=2.5 in /usr/local/lib/python3.10/dist-packages (from osmnx) (3.4.2)\n",
            "Requirement already satisfied: scikit-learn in /usr/local/lib/python3.10/dist-packages (from shap) (1.5.2)\n",
            "Requirement already satisfied: slicer==0.0.8 in /usr/local/lib/python3.10/dist-packages (from shap) (0.0.8)\n",
            "Requirement already satisfied: numba in /usr/local/lib/python3.10/dist-packages (from shap) (0.60.0)\n",
            "Requirement already satisfied: cloudpickle in /usr/local/lib/python3.10/dist-packages (from shap) (3.1.0)\n",
            "Requirement already satisfied: python-dateutil>=2.8.2 in /usr/local/lib/python3.10/dist-packages (from pandas>=1.4.0->geopandas) (2.8.2)\n",
            "Requirement already satisfied: pytz>=2020.1 in /usr/local/lib/python3.10/dist-packages (from pandas>=1.4.0->geopandas) (2024.2)\n",
            "Requirement already satisfied: tzdata>=2022.7 in /usr/local/lib/python3.10/dist-packages (from pandas>=1.4.0->geopandas) (2024.2)\n",
            "Requirement already satisfied: certifi in /usr/local/lib/python3.10/dist-packages (from pyogrio>=0.7.2->geopandas) (2024.8.30)\n",
            "Requirement already satisfied: idna<4,>=2.5 in /usr/local/lib/python3.10/dist-packages (from requests>=2.20->openai) (3.10)\n",
            "Requirement already satisfied: urllib3<3,>=1.21.1 in /usr/local/lib/python3.10/dist-packages (from requests>=2.20->openai) (2.2.3)\n",
            "Requirement already satisfied: aiohappyeyeballs>=2.3.0 in /usr/local/lib/python3.10/dist-packages (from aiohttp->openai) (2.4.4)\n",
            "Requirement already satisfied: aiosignal>=1.1.2 in /usr/local/lib/python3.10/dist-packages (from aiohttp->openai) (1.3.1)\n",
            "Requirement already satisfied: async-timeout<6.0,>=4.0 in /usr/local/lib/python3.10/dist-packages (from aiohttp->openai) (4.0.3)\n",
            "Requirement already satisfied: attrs>=17.3.0 in /usr/local/lib/python3.10/dist-packages (from aiohttp->openai) (24.2.0)\n",
            "Requirement already satisfied: frozenlist>=1.1.1 in /usr/local/lib/python3.10/dist-packages (from aiohttp->openai) (1.5.0)\n",
            "Requirement already satisfied: multidict<7.0,>=4.5 in /usr/local/lib/python3.10/dist-packages (from aiohttp->openai) (6.1.0)\n",
            "Requirement already satisfied: propcache>=0.2.0 in /usr/local/lib/python3.10/dist-packages (from aiohttp->openai) (0.2.1)\n",
            "Requirement already satisfied: yarl<2.0,>=1.17.0 in /usr/local/lib/python3.10/dist-packages (from aiohttp->openai) (1.18.3)\n",
            "Requirement already satisfied: contourpy>=1.0.1 in /usr/local/lib/python3.10/dist-packages (from matplotlib->matplotlib-venn) (1.3.1)\n",
            "Requirement already satisfied: cycler>=0.10 in /usr/local/lib/python3.10/dist-packages (from matplotlib->matplotlib-venn) (0.12.1)\n",
            "Requirement already satisfied: fonttools>=4.22.0 in /usr/local/lib/python3.10/dist-packages (from matplotlib->matplotlib-venn) (4.55.2)\n",
            "Requirement already satisfied: kiwisolver>=1.0.1 in /usr/local/lib/python3.10/dist-packages (from matplotlib->matplotlib-venn) (1.4.7)\n",
            "Requirement already satisfied: pyparsing>=2.3.1 in /usr/local/lib/python3.10/dist-packages (from matplotlib->matplotlib-venn) (3.2.0)\n",
            "Requirement already satisfied: llvmlite<0.44,>=0.43.0dev0 in /usr/local/lib/python3.10/dist-packages (from numba->shap) (0.43.0)\n",
            "Requirement already satisfied: joblib>=1.2.0 in /usr/local/lib/python3.10/dist-packages (from scikit-learn->shap) (1.4.2)\n",
            "Requirement already satisfied: threadpoolctl>=3.1.0 in /usr/local/lib/python3.10/dist-packages (from scikit-learn->shap) (3.5.0)\n",
            "Requirement already satisfied: cffi>=1.12 in /usr/local/lib/python3.10/dist-packages (from cryptography>=36.0.0->pdfminer.six==20231228->pdfplumber) (1.17.1)\n",
            "Requirement already satisfied: typing-extensions>=4.1.0 in /usr/local/lib/python3.10/dist-packages (from multidict<7.0,>=4.5->aiohttp->openai) (4.12.2)\n",
            "Requirement already satisfied: six>=1.5 in /usr/local/lib/python3.10/dist-packages (from python-dateutil>=2.8.2->pandas>=1.4.0->geopandas) (1.17.0)\n",
            "Requirement already satisfied: pycparser in /usr/local/lib/python3.10/dist-packages (from cffi>=1.12->cryptography>=36.0.0->pdfminer.six==20231228->pdfplumber) (2.22)\n",
            "Downloading openai-0.28.0-py3-none-any.whl (76 kB)\n",
            "\u001b[2K   \u001b[90m━━━━━━━━━━━━━━━━━━━━━━━━━━━━━━━━━━━━━━━━\u001b[0m \u001b[32m76.5/76.5 kB\u001b[0m \u001b[31m5.2 MB/s\u001b[0m eta \u001b[36m0:00:00\u001b[0m\n",
            "\u001b[?25hDownloading pymupdf-1.25.1-cp39-abi3-manylinux2014_x86_64.manylinux_2_17_x86_64.whl (20.0 MB)\n",
            "\u001b[2K   \u001b[90m━━━━━━━━━━━━━━━━━━━━━━━━━━━━━━━━━━━━━━━━\u001b[0m \u001b[32m20.0/20.0 MB\u001b[0m \u001b[31m68.5 MB/s\u001b[0m eta \u001b[36m0:00:00\u001b[0m\n",
            "\u001b[?25hDownloading pdfplumber-0.11.4-py3-none-any.whl (59 kB)\n",
            "\u001b[2K   \u001b[90m━━━━━━━━━━━━━━━━━━━━━━━━━━━━━━━━━━━━━━━━\u001b[0m \u001b[32m59.2/59.2 kB\u001b[0m \u001b[31m4.5 MB/s\u001b[0m eta \u001b[36m0:00:00\u001b[0m\n",
            "\u001b[?25hDownloading pdfminer.six-20231228-py3-none-any.whl (5.6 MB)\n",
            "\u001b[2K   \u001b[90m━━━━━━━━━━━━━━━━━━━━━━━━━━━━━━━━━━━━━━━━\u001b[0m \u001b[32m5.6/5.6 MB\u001b[0m \u001b[31m90.7 MB/s\u001b[0m eta \u001b[36m0:00:00\u001b[0m\n",
            "\u001b[?25hDownloading osmnx-2.0.0-py3-none-any.whl (99 kB)\n",
            "\u001b[2K   \u001b[90m━━━━━━━━━━━━━━━━━━━━━━━━━━━━━━━━━━━━━━━━\u001b[0m \u001b[32m99.4/99.4 kB\u001b[0m \u001b[31m6.8 MB/s\u001b[0m eta \u001b[36m0:00:00\u001b[0m\n",
            "\u001b[?25hDownloading pypdfium2-4.30.0-py3-none-manylinux_2_17_x86_64.manylinux2014_x86_64.whl (2.8 MB)\n",
            "\u001b[2K   \u001b[90m━━━━━━━━━━━━━━━━━━━━━━━━━━━━━━━━━━━━━━━━\u001b[0m \u001b[32m2.8/2.8 MB\u001b[0m \u001b[31m67.0 MB/s\u001b[0m eta \u001b[36m0:00:00\u001b[0m\n",
            "\u001b[?25hInstalling collected packages: pypdfium2, PyMuPDF, pdfminer.six, pdfplumber, osmnx, openai\n",
            "  Attempting uninstall: openai\n",
            "    Found existing installation: openai 1.54.5\n",
            "    Uninstalling openai-1.54.5:\n",
            "      Successfully uninstalled openai-1.54.5\n",
            "Successfully installed PyMuPDF-1.25.1 openai-0.28.0 osmnx-2.0.0 pdfminer.six-20231228 pdfplumber-0.11.4 pypdfium2-4.30.0\n"
          ]
        }
      ],
      "source": [
        "!pip install PyMuPDF pdfplumber matplotlib-venn geopandas osmnx openai shapely shap openai==0.28"
      ]
    },
    {
      "cell_type": "code",
      "execution_count": null,
      "metadata": {
        "id": "DuGXxx6rrR23"
      },
      "outputs": [],
      "source": [
        "#import libraries\n",
        "import os\n",
        "import re\n",
        "import sys\n",
        "import json\n",
        "import time\n",
        "import shap\n",
        "import openai\n",
        "import random\n",
        "import pickle\n",
        "import joblib\n",
        "import hashlib\n",
        "import warnings\n",
        "import requests\n",
        "import subprocess\n",
        "import osmnx as ox\n",
        "import numpy as np\n",
        "import pandas as pd\n",
        "import seaborn as sns\n",
        "import geopandas as gpd\n",
        "from datetime import datetime\n",
        "from osmnx import _overpass\n",
        "from tabulate import tabulate\n",
        "from google.colab import drive\n",
        "from tabulate import tabulate\n",
        "from IPython.display import display, HTML\n",
        "from datetime import datetime, timedelta"
      ]
    },
    {
      "cell_type": "code",
      "execution_count": null,
      "metadata": {
        "colab": {
          "base_uri": "https://localhost:8080/"
        },
        "id": "KJjH-x4q5hih",
        "outputId": "74fb1884-d402-4b0d-fc59-540e67d38fa1"
      },
      "outputs": [
        {
          "name": "stdout",
          "output_type": "stream",
          "text": [
            "Mounted at /content/drive\n"
          ]
        }
      ],
      "source": [
        "# Mount Google Drive\n",
        "drive.mount('/content/drive')"
      ]
    },
    {
      "cell_type": "code",
      "execution_count": null,
      "metadata": {
        "id": "L8tinxiZpNWK"
      },
      "outputs": [],
      "source": [
        "df_loaded = pd.read_pickle('/content/drive/MyDrive/FYP /AI Alignment/Test/data/US_weather_report.pkl')"
      ]
    },
    {
      "cell_type": "code",
      "execution_count": null,
      "metadata": {
        "colab": {
          "base_uri": "https://localhost:8080/"
        },
        "id": "jUnaNCc-q0r4",
        "outputId": "838e12b0-4fee-48fc-ca5b-0cfc4ab2e9d6"
      },
      "outputs": [
        {
          "name": "stdout",
          "output_type": "stream",
          "text": [
            "+----+-------------------------------------+--------------------------------------------------------------------------------------------------------------------------------------------------------------------------------------------+\n",
            "|    |              Category               |                                                                                          Details                                                                                           |\n",
            "+----+-------------------------------------+--------------------------------------------------------------------------------------------------------------------------------------------------------------------------------------------+\n",
            "| 0  | WeatherForecastAndClimateConditions |                     HeavyRainfall > Locations > {'State': 'New Mexico', 'Details': 'Locally heavy precipitation sparking flash flooding', 'Date': 'October 19, 2024'}                      |\n",
            "| 1  | WeatherForecastAndClimateConditions |                                HeavyRainfall > Locations > {'State': 'Washington', 'Details': 'Significant precipitation fell', 'Date': 'October 19, 2024'}                                |\n",
            "| 2  | WeatherForecastAndClimateConditions |                   HeavyRainfall > Locations > {'State': 'Utah', 'Details': 'Precipitation totals more than an inch in several locations', 'Date': 'October 17-18, 2024'}                   |\n",
            "| 3  | WeatherForecastAndClimateConditions |                    HeavyRainfall > Locations > {'State': 'Roswell, NM', 'Details': '5.78-inch daily sum became the wettest day on record', 'Date': 'October 19, 2024'}                     |\n",
            "| 4  | WeatherForecastAndClimateConditions |                          HeavyRainfall > Locations > {'State': 'Clayton, NM', 'Details': 'Daily-record amounts reached 1.73 inches', 'Date': 'October 19, 2024'}                           |\n",
            "| 5  | WeatherForecastAndClimateConditions |                          HeavyRainfall > Locations > {'State': 'Alamosa, CO', 'Details': 'Daily-record amounts reached 1.08 inches', 'Date': 'October 19, 2024'}                           |\n",
            "| 6  | WeatherForecastAndClimateConditions |                  HeavyRainfall > Locations > {'State': 'Quillayute, WA', 'Details': 'Daily-record totals for October 19 reached 4.68 inches', 'Date': 'October 19, 2024'}                  |\n",
            "| 7  | WeatherForecastAndClimateConditions |                  HeavyRainfall > Locations > {'State': 'Bellingham, WA', 'Details': 'Daily-record totals for October 19 reached 1.97 inches', 'Date': 'October 19, 2024'}                  |\n",
            "| 8  | WeatherForecastAndClimateConditions |                           Flooding > Locations > {'State': 'New Mexico', 'Details': 'Flash flooding in parts of eastern New Mexico', 'Date': 'October 19, 2024'}                           |\n",
            "| 9  | WeatherForecastAndClimateConditions |            Flooding > Locations > {'State': 'Roswell, NM', 'Details': 'Flash flooding resulted in at least two fatalities and dozens of injuries', 'Date': 'October 19, 2024'}             |\n",
            "| 10 | WeatherForecastAndClimateConditions |        DroughtAndDryConditions > Locations > {'State': 'Texas', 'Details': 'Measurable rain last fell on September 5, resulting in a 44-day dry spell', 'Date': 'October 19, 2024'}        |\n",
            "| 11 | WeatherForecastAndClimateConditions |                      DroughtAndDryConditions > Locations > {'State': 'Texas', 'Details': 'Last received measurable rain on September 4', 'Date': 'October 19, 2024'}                       |\n",
            "| 12 | WeatherForecastAndClimateConditions |             DroughtAndDryConditions > Locations > {'State': 'South Dakota', 'Details': 'Streak with no measurable precipitation reached 25 days', 'Date': 'October 19, 2024'}              |\n",
            "| 13 | WeatherForecastAndClimateConditions | DroughtAndDryConditions > Locations > {'State': 'Nebraska', 'Details': 'Reported less than one-tenth of an inch of rain during the first 19 days of October', 'Date': 'October 19, 2024'}  |\n",
            "| 14 | WeatherForecastAndClimateConditions | DroughtAndDryConditions > Locations > {'State': 'Minnesota', 'Details': 'Reported less than one-tenth of an inch of rain during the first 19 days of October', 'Date': 'October 19, 2024'} |\n",
            "+----+-------------------------------------+--------------------------------------------------------------------------------------------------------------------------------------------------------------------------------------------+\n"
          ]
        }
      ],
      "source": [
        "print(tabulate(df_loaded.head(15), headers='keys', tablefmt='pretty'))"
      ]
    },
    {
      "cell_type": "code",
      "execution_count": null,
      "metadata": {
        "id": "L8a87yBxq_ax"
      },
      "outputs": [],
      "source": [
        "def infer_climatic_zone(lat, lon):\n",
        "    \"\"\"\n",
        "    Infer climatic zone based on latitude and longitude for the US.\n",
        "    This is a simplified example based on broad climatic zone patterns.\n",
        "\n",
        "    \"\"\"\n",
        "    if 24.396308 <= lat <= 49.384358 and -125.0 <= lon <= -66.93457:\n",
        "        # Rough northern boundary for continental regions\n",
        "        if lat > 40:\n",
        "            return 'Continental Zone'\n",
        "        # Central and temperate areas\n",
        "        elif lat > 30:\n",
        "            return 'Temperate Zone'\n",
        "        # Lower latitudes, closer to subtropical and tropical regions\n",
        "        elif lat <= 30:\n",
        "            return 'Subtropical/Tropical Zone'\n",
        "    else:\n",
        "        return 'Unknown Zone'\n",
        "\n",
        "# Initialize cache\n",
        "location_cache = {}\n",
        "\n",
        "def get_standardized_location_from_nominatim(location_name):\n",
        "    # Check if location already cached\n",
        "    if location_name in location_cache:\n",
        "        return location_cache[location_name]\n",
        "\n",
        "    # Call Nominatim API\n",
        "    url = f\"https://nominatim.openstreetmap.org/search?q={location_name}&format=json&addressdetails=1&limit=1\"\n",
        "    headers = {'User-Agent': 'Mozilla/5.0 (compatible; MyPythonApp/1.0; +https://example.com)'}\n",
        "\n",
        "    try:\n",
        "        response = requests.get(url, headers=headers)\n",
        "        if response.status_code == 200:\n",
        "            data = response.json()\n",
        "            if len(data) > 0:\n",
        "                location_data = data[0]\n",
        "                address = location_data.get('address', {})\n",
        "\n",
        "                # Extract standardized data\n",
        "                state = address.get('state', 'N/A')\n",
        "                county = address.get('county', 'N/A')\n",
        "                city = address.get('town', '') or address.get('village', '') or address.get('city', location_name)\n",
        "\n",
        "                # Extract latitude and longitude\n",
        "                lat = float(location_data.get('lat', 0))\n",
        "                lon = float(location_data.get('lon', 0))\n",
        "\n",
        "                # Infer the climatic zone based on latitude and longitude\n",
        "                climatic_zone = infer_climatic_zone(lat, lon)\n",
        "\n",
        "                standardized_info = {\n",
        "                    'state': state,\n",
        "                    'county': county,\n",
        "                    'city': city,\n",
        "                    'climatic_zone': climatic_zone,\n",
        "                    'full_standardized_name': f\"{city}, {county}, {state}\".strip(\", \")\n",
        "                }\n",
        "\n",
        "                # Store location data in cache\n",
        "                location_cache[location_name] = standardized_info\n",
        "                return standardized_info\n",
        "    except Exception as e:\n",
        "        print(f\"Error fetching location data for {location_name}: {e}\")\n",
        "\n",
        "    return None"
      ]
    },
    {
      "cell_type": "code",
      "execution_count": null,
      "metadata": {
        "id": "SaU_o2z6rA3q"
      },
      "outputs": [],
      "source": [
        "# Extract location from details in weather dataset\n",
        "def extract_location(details):\n",
        "    prompt = f\"\"\"Identify and extract the location names (state, county, city,\n",
        "    or any relevant geographical area) mentioned in the following text:\n",
        "\n",
        "    Text: \"{details}\"\n",
        "\n",
        "    Extracted Locations:\"\"\"\n",
        "\n",
        "    try:\n",
        "        response = openai.ChatCompletion.create(\n",
        "            model=\"gpt-4o-mini\",\n",
        "            messages=[{\"role\": \"user\", \"content\": prompt}],\n",
        "            temperature=0\n",
        "        )\n",
        "\n",
        "        location_response = response['choices'][0]['message']['content'].strip()\n",
        "        return location_response\n",
        "\n",
        "    except Exception as e:\n",
        "        print(f\"Error while extracting locations: {e}\")\n",
        "        return None\n",
        "\n",
        "df_loaded['Extracted_Location'] = df_loaded['Details'].apply(extract_location)"
      ]
    },
    {
      "cell_type": "code",
      "execution_count": null,
      "metadata": {
        "id": "uYHPL_hjrEhf"
      },
      "outputs": [],
      "source": [
        "# Extract and categorize location information\n",
        "def extract_location(details):\n",
        "    #categorize location based on US geographical details\n",
        "    prompt = f\"\"\"\n",
        "    Based on the following text: \"{details}\",\n",
        "\n",
        "    Identify and extract any of the following geographical details, if present:\n",
        "\n",
        "    - State\n",
        "    - County\n",
        "    - City\n",
        "    - Climatic Zone (e.g., Tropical, Subtropical, Temperate, Arid, Continental)\n",
        "\n",
        "    Please return the information in the following format:\n",
        "    State: <State Name or 'N/A'>\n",
        "    County: <County Name or 'N/A'>\n",
        "    City: <City Name or 'N/A'>\n",
        "    Climatic Zone: <Climatic Zone Name or 'N/A'>\n",
        "    Full Standardized Name: <Constructed Standardized Name or 'N/A'>\n",
        "    \"\"\"\n",
        "\n",
        "    try:\n",
        "        response = openai.ChatCompletion.create(\n",
        "            model=\"gpt-4o\",\n",
        "            messages=[{\"role\": \"user\", \"content\": prompt}],\n",
        "            temperature=0\n",
        "        )\n",
        "\n",
        "        location_response = response['choices'][0]['message']['content'].strip()\n",
        "\n",
        "        # Dictionary to store the parsed response\n",
        "        standardized_info = {\n",
        "            \"state\": \"N/A\",\n",
        "            \"county\": \"N/A\",\n",
        "            \"city\": \"N/A\",\n",
        "            \"climatic_zone\": \"N/A\",\n",
        "            \"full_standardized_name\": \"N/A\"\n",
        "        }\n",
        "\n",
        "        # Split response into lines and populate the standardized_info dictionary\n",
        "        lines = location_response.splitlines()\n",
        "        for line in lines:\n",
        "            if \"State:\" in line:\n",
        "                standardized_info['state'] = line.split(\":\", 1)[1].strip()\n",
        "            elif \"County:\" in line:\n",
        "                standardized_info['county'] = line.split(\":\", 1)[1].strip()\n",
        "            elif \"City:\" in line:\n",
        "                standardized_info['city'] = line.split(\":\", 1)[1].strip()\n",
        "            elif \"Climatic Zone:\" in line:\n",
        "                standardized_info['climatic_zone'] = line.split(\":\", 1)[1].strip()\n",
        "            elif \"Full Standardized Name:\" in line:\n",
        "                standardized_info['locations'] = line.split(\":\", 1)[1].strip()\n",
        "\n",
        "        return standardized_info\n",
        "\n",
        "    except Exception as e:\n",
        "        print(f\"Error while extracting locations: {e}\")\n",
        "        return {\"state\": \"N/A\", \"county\": \"N/A\", \"city\": \"N/A\", \"climatic_zone\": \"N/A\", \"locations\": \"N/A\"}"
      ]
    },
    {
      "cell_type": "code",
      "execution_count": null,
      "metadata": {
        "colab": {
          "base_uri": "https://localhost:8080/"
        },
        "id": "NIvmwnxIrHq9",
        "outputId": "60296a1f-ee20-42d4-8deb-98c58c069983"
      },
      "outputs": [
        {
          "name": "stdout",
          "output_type": "stream",
          "text": [
            "Weather Data with Expanded Location Information:\n",
            "+----+-------------------------------------+--------------------------------------------------------------------------------------------------------------------------------------------------------------------------------------------+-----------------------------------------------------+--------------+--------+------------+-----------------------------------------------------------------------------------+--------------------------------+\n",
            "|    |              Category               |                                                                                          Details                                                                                           |                 Extracted_Location                  |    state     | county |    city    |                                   climatic_zone                                   |           locations            |\n",
            "+----+-------------------------------------+--------------------------------------------------------------------------------------------------------------------------------------------------------------------------------------------+-----------------------------------------------------+--------------+--------+------------+-----------------------------------------------------------------------------------+--------------------------------+\n",
            "| 0  | WeatherForecastAndClimateConditions |                     HeavyRainfall > Locations > {'State': 'New Mexico', 'Details': 'Locally heavy precipitation sparking flash flooding', 'Date': 'October 19, 2024'}                      |           Extracted Locations: New Mexico           |  New Mexico  |  N/A   |    N/A     |                                       Arid                                        |        New Mexico, USA         |\n",
            "| 1  | WeatherForecastAndClimateConditions |                                HeavyRainfall > Locations > {'State': 'Washington', 'Details': 'Significant precipitation fell', 'Date': 'October 19, 2024'}                                |           Extracted Locations: Washington           |  Washington  |  N/A   |    N/A     |                                     Temperate                                     |        Washington, USA         |\n",
            "| 2  | WeatherForecastAndClimateConditions |                   HeavyRainfall > Locations > {'State': 'Utah', 'Details': 'Precipitation totals more than an inch in several locations', 'Date': 'October 17-18, 2024'}                   |              Extracted Locations: Utah              |     Utah     |  N/A   |    N/A     |                                       Arid                                        |           Utah, USA            |\n",
            "| 3  | WeatherForecastAndClimateConditions |                    HeavyRainfall > Locations > {'State': 'Roswell, NM', 'Details': '5.78-inch daily sum became the wettest day on record', 'Date': 'October 19, 2024'}                     |                Extracted Locations:                 |  New Mexico  |  N/A   |  Roswell   |                                       Arid                                        |    Roswell, New Mexico, USA    |\n",
            "|    |                                     |                                                                                                                                                                                            |              - State: New Mexico (NM)               |              |        |            |                                                                                   |                                |\n",
            "|    |                                     |                                                                                                                                                                                            |                   - City: Roswell                   |              |        |            |                                                                                   |                                |\n",
            "| 4  | WeatherForecastAndClimateConditions |                          HeavyRainfall > Locations > {'State': 'Clayton, NM', 'Details': 'Daily-record amounts reached 1.73 inches', 'Date': 'October 19, 2024'}                           |          Extracted Locations: Clayton, NM           |  New Mexico  |  N/A   |  Clayton   | Semi-arid (Clayton, NM is generally considered to be in a semi-arid climate zone) |    Clayton, New Mexico, USA    |\n",
            "| 5  | WeatherForecastAndClimateConditions |                          HeavyRainfall > Locations > {'State': 'Alamosa, CO', 'Details': 'Daily-record amounts reached 1.08 inches', 'Date': 'October 19, 2024'}                           |          Extracted Locations: Alamosa, CO           |   Colorado   |  N/A   |  Alamosa   |                                       Arid                                        |     Alamosa, Colorado, USA     |\n",
            "| 6  | WeatherForecastAndClimateConditions |                  HeavyRainfall > Locations > {'State': 'Quillayute, WA', 'Details': 'Daily-record totals for October 19 reached 4.68 inches', 'Date': 'October 19, 2024'}                  |         Extracted Locations: Quillayute, WA         |  Washington  |  N/A   | Quillayute |                                     Temperate                                     |  Quillayute, Washington, USA   |\n",
            "| 7  | WeatherForecastAndClimateConditions |                  HeavyRainfall > Locations > {'State': 'Bellingham, WA', 'Details': 'Daily-record totals for October 19 reached 1.97 inches', 'Date': 'October 19, 2024'}                  |         Extracted Locations: Bellingham, WA         |  Washington  |  N/A   | Bellingham |                                     Temperate                                     |  Bellingham, Washington, USA   |\n",
            "| 8  | WeatherForecastAndClimateConditions |                           Flooding > Locations > {'State': 'New Mexico', 'Details': 'Flash flooding in parts of eastern New Mexico', 'Date': 'October 19, 2024'}                           | Extracted Locations: New Mexico, eastern New Mexico |  New Mexico  |  N/A   |    N/A     |                                       Arid                                        |        New Mexico, USA         |\n",
            "| 9  | WeatherForecastAndClimateConditions |            Flooding > Locations > {'State': 'Roswell, NM', 'Details': 'Flash flooding resulted in at least two fatalities and dozens of injuries', 'Date': 'October 19, 2024'}             |          Extracted Locations: Roswell, NM           |  New Mexico  |  N/A   |  Roswell   |                                       Arid                                        |    Roswell, New Mexico, USA    |\n",
            "| 10 | WeatherForecastAndClimateConditions |        DroughtAndDryConditions > Locations > {'State': 'Texas', 'Details': 'Measurable rain last fell on September 5, resulting in a 44-day dry spell', 'Date': 'October 19, 2024'}        |             Extracted Locations: Texas              |    Texas     |  N/A   |    N/A     |                                        N/A                                        |             Texas              |\n",
            "| 11 | WeatherForecastAndClimateConditions |                      DroughtAndDryConditions > Locations > {'State': 'Texas', 'Details': 'Last received measurable rain on September 4', 'Date': 'October 19, 2024'}                       |             Extracted Locations: Texas              |    Texas     |  N/A   |    N/A     |                                        N/A                                        |             Texas              |\n",
            "| 12 | WeatherForecastAndClimateConditions |             DroughtAndDryConditions > Locations > {'State': 'South Dakota', 'Details': 'Streak with no measurable precipitation reached 25 days', 'Date': 'October 19, 2024'}              |          Extracted Locations: South Dakota          | South Dakota |  N/A   |    N/A     |                                    Continental                                    | South Dakota, Continental Zone |\n",
            "| 13 | WeatherForecastAndClimateConditions | DroughtAndDryConditions > Locations > {'State': 'Nebraska', 'Details': 'Reported less than one-tenth of an inch of rain during the first 19 days of October', 'Date': 'October 19, 2024'}  |            Extracted Locations: Nebraska            |   Nebraska   |  N/A   |    N/A     |                                        N/A                                        |            Nebraska            |\n",
            "| 14 | WeatherForecastAndClimateConditions | DroughtAndDryConditions > Locations > {'State': 'Minnesota', 'Details': 'Reported less than one-tenth of an inch of rain during the first 19 days of October', 'Date': 'October 19, 2024'} |           Extracted Locations: Minnesota            |  Minnesota   |  N/A   |    N/A     |                                    Continental                                    |  Minnesota, Continental Zone   |\n",
            "| 15 | WeatherForecastAndClimateConditions |           HighTemperatures > Locations > {'State': 'Arizona', 'Details': 'Triple-digit heat occurred on each of the first 13 days of October in Tucson', 'Date': 'October 2024'}           |        Extracted Locations: Arizona, Tucson         |   Arizona    |  N/A   |   Tucson   |                                       Arid                                        |      Tucson, Arizona, USA      |\n",
            "| 16 | WeatherForecastAndClimateConditions |                 HighTemperatures > Locations > {'State': 'Texas', 'Details': 'Austin set a monthly record with a high of 101°F on October 13', 'Date': 'October 13, 2024'}                 |         Extracted Locations: Texas, Austin          |    Texas     |  N/A   |   Austin   |                                    Subtropical                                    |       Austin, Texas, USA       |\n",
            "| 17 | WeatherForecastAndClimateConditions |                HighTemperatures > Locations > {'State': 'Texas', 'Details': 'Houston tied a monthly record with a high of 99°F on October 14', 'Date': 'October 14, 2024'}                 |         Extracted Locations: Texas, Houston         |    Texas     |  N/A   |  Houston   |                                    Subtropical                                    |         Houston, Texas         |\n",
            "| 18 | WeatherForecastAndClimateConditions |        HighTemperatures > Locations > {'State': 'Texas', 'Details': 'Waco set multiple records with highs of 104°F and 100°F on October 13 and 15', 'Date': 'October 13-15, 2024'}         |          Extracted Locations: Texas, Waco           |    Texas     |  N/A   |    Waco    |                                    Subtropical                                    |        Waco, Texas, USA        |\n",
            "| 19 | WeatherForecastAndClimateConditions |              HighTemperatures > Locations > {'State': 'South Dakota', 'Details': 'Record-breaking highs for October 17 soared to 90°F in Pierre', 'Date': 'October 17, 2024'}              |      Extracted Locations: South Dakota, Pierre      | South Dakota |  N/A   |   Pierre   |                                    Continental                                    |   Pierre, South Dakota, USA    |\n",
            "| 20 | WeatherForecastAndClimateConditions |                StrongWinds > Locations > {'State': 'Hawaii', 'Details': 'Kahului clocked peak gusts to 46 and 48 mph on October 15 and 16', 'Date': 'October 15-16, 2024'}                 |        Extracted Locations: Hawaii, Kahului         |    Hawaii    |  N/A   |  Kahului   |                                     Tropical                                      |      Kahului, Hawaii, USA      |\n",
            "+----+-------------------------------------+--------------------------------------------------------------------------------------------------------------------------------------------------------------------------------------------+-----------------------------------------------------+--------------+--------+------------+-----------------------------------------------------------------------------------+--------------------------------+\n"
          ]
        }
      ],
      "source": [
        "df_loaded['Location_Info'] = df_loaded['Details'].apply(extract_location)\n",
        "\n",
        "# json_normalize to expand the 'Location_Info' column into separate columns\n",
        "df_loaded_expanded = pd.concat([df_loaded.drop(['Location_Info'], axis=1),\n",
        "                                pd.json_normalize(df_loaded['Location_Info'])], axis=1)\n",
        "\n",
        "\n",
        "df_final_output = df_loaded_expanded[['Category', 'Details', 'Extracted_Location', 'state', 'county', 'city', 'climatic_zone', 'locations']]\n",
        "\n",
        "print(\"Weather Data with Expanded Location Information:\")\n",
        "print(tabulate(df_final_output, headers='keys', tablefmt='pretty'))"
      ]
    },
    {
      "cell_type": "code",
      "execution_count": null,
      "metadata": {
        "colab": {
          "base_uri": "https://localhost:8080/"
        },
        "id": "JvVBRNzhrJl1",
        "outputId": "c24ab9b8-dff6-4dd8-a6e9-479ace1f266b"
      },
      "outputs": [
        {
          "name": "stdout",
          "output_type": "stream",
          "text": [
            "\\Results with all locations:\n",
            "+----+-------------------------------------+--------------------------------------------------------------------------------------------------------------------------------------------------------------------------------------------+-----------------------------------------------------+--------------+------------+--------+------------+-----------------------------------------------------------------------------------+--------------------------------+\n",
            "|    |              Category               |                                                                                          Details                                                                                           |                 Extracted_Location                  |    state     | state_code | county |    city    |                                   climatic_zone                                   |           locations            |\n",
            "+----+-------------------------------------+--------------------------------------------------------------------------------------------------------------------------------------------------------------------------------------------+-----------------------------------------------------+--------------+------------+--------+------------+-----------------------------------------------------------------------------------+--------------------------------+\n",
            "| 0  | WeatherForecastAndClimateConditions |                     HeavyRainfall > Locations > {'State': 'New Mexico', 'Details': 'Locally heavy precipitation sparking flash flooding', 'Date': 'October 19, 2024'}                      |           Extracted Locations: New Mexico           |  New Mexico  |     NM     |  N/A   |    N/A     |                                       Arid                                        |        New Mexico, USA         |\n",
            "| 1  | WeatherForecastAndClimateConditions |                                HeavyRainfall > Locations > {'State': 'Washington', 'Details': 'Significant precipitation fell', 'Date': 'October 19, 2024'}                                |           Extracted Locations: Washington           |  Washington  |     WA     |  N/A   |    N/A     |                                     Temperate                                     |        Washington, USA         |\n",
            "| 2  | WeatherForecastAndClimateConditions |                   HeavyRainfall > Locations > {'State': 'Utah', 'Details': 'Precipitation totals more than an inch in several locations', 'Date': 'October 17-18, 2024'}                   |              Extracted Locations: Utah              |     Utah     |     UT     |  N/A   |    N/A     |                                       Arid                                        |           Utah, USA            |\n",
            "| 3  | WeatherForecastAndClimateConditions |                    HeavyRainfall > Locations > {'State': 'Roswell, NM', 'Details': '5.78-inch daily sum became the wettest day on record', 'Date': 'October 19, 2024'}                     |                Extracted Locations:                 |  New Mexico  |     NM     |  N/A   |  Roswell   |                                       Arid                                        |    Roswell, New Mexico, USA    |\n",
            "|    |                                     |                                                                                                                                                                                            |              - State: New Mexico (NM)               |              |            |        |            |                                                                                   |                                |\n",
            "|    |                                     |                                                                                                                                                                                            |                   - City: Roswell                   |              |            |        |            |                                                                                   |                                |\n",
            "| 4  | WeatherForecastAndClimateConditions |                          HeavyRainfall > Locations > {'State': 'Clayton, NM', 'Details': 'Daily-record amounts reached 1.73 inches', 'Date': 'October 19, 2024'}                           |          Extracted Locations: Clayton, NM           |  New Mexico  |     NM     |  N/A   |  Clayton   | Semi-arid (Clayton, NM is generally considered to be in a semi-arid climate zone) |    Clayton, New Mexico, USA    |\n",
            "| 5  | WeatherForecastAndClimateConditions |                          HeavyRainfall > Locations > {'State': 'Alamosa, CO', 'Details': 'Daily-record amounts reached 1.08 inches', 'Date': 'October 19, 2024'}                           |          Extracted Locations: Alamosa, CO           |   Colorado   |     CO     |  N/A   |  Alamosa   |                                       Arid                                        |     Alamosa, Colorado, USA     |\n",
            "| 6  | WeatherForecastAndClimateConditions |                  HeavyRainfall > Locations > {'State': 'Quillayute, WA', 'Details': 'Daily-record totals for October 19 reached 4.68 inches', 'Date': 'October 19, 2024'}                  |         Extracted Locations: Quillayute, WA         |  Washington  |     WA     |  N/A   | Quillayute |                                     Temperate                                     |  Quillayute, Washington, USA   |\n",
            "| 7  | WeatherForecastAndClimateConditions |                  HeavyRainfall > Locations > {'State': 'Bellingham, WA', 'Details': 'Daily-record totals for October 19 reached 1.97 inches', 'Date': 'October 19, 2024'}                  |         Extracted Locations: Bellingham, WA         |  Washington  |     WA     |  N/A   | Bellingham |                                     Temperate                                     |  Bellingham, Washington, USA   |\n",
            "| 8  | WeatherForecastAndClimateConditions |                           Flooding > Locations > {'State': 'New Mexico', 'Details': 'Flash flooding in parts of eastern New Mexico', 'Date': 'October 19, 2024'}                           | Extracted Locations: New Mexico, eastern New Mexico |  New Mexico  |     NM     |  N/A   |    N/A     |                                       Arid                                        |        New Mexico, USA         |\n",
            "| 9  | WeatherForecastAndClimateConditions |            Flooding > Locations > {'State': 'Roswell, NM', 'Details': 'Flash flooding resulted in at least two fatalities and dozens of injuries', 'Date': 'October 19, 2024'}             |          Extracted Locations: Roswell, NM           |  New Mexico  |     NM     |  N/A   |  Roswell   |                                       Arid                                        |    Roswell, New Mexico, USA    |\n",
            "| 10 | WeatherForecastAndClimateConditions |        DroughtAndDryConditions > Locations > {'State': 'Texas', 'Details': 'Measurable rain last fell on September 5, resulting in a 44-day dry spell', 'Date': 'October 19, 2024'}        |             Extracted Locations: Texas              |    Texas     |     TX     |  N/A   |    N/A     |                                        N/A                                        |             Texas              |\n",
            "| 11 | WeatherForecastAndClimateConditions |                      DroughtAndDryConditions > Locations > {'State': 'Texas', 'Details': 'Last received measurable rain on September 4', 'Date': 'October 19, 2024'}                       |             Extracted Locations: Texas              |    Texas     |     TX     |  N/A   |    N/A     |                                        N/A                                        |             Texas              |\n",
            "| 12 | WeatherForecastAndClimateConditions |             DroughtAndDryConditions > Locations > {'State': 'South Dakota', 'Details': 'Streak with no measurable precipitation reached 25 days', 'Date': 'October 19, 2024'}              |          Extracted Locations: South Dakota          | South Dakota |     SD     |  N/A   |    N/A     |                                    Continental                                    | South Dakota, Continental Zone |\n",
            "| 13 | WeatherForecastAndClimateConditions | DroughtAndDryConditions > Locations > {'State': 'Nebraska', 'Details': 'Reported less than one-tenth of an inch of rain during the first 19 days of October', 'Date': 'October 19, 2024'}  |            Extracted Locations: Nebraska            |   Nebraska   |     NE     |  N/A   |    N/A     |                                        N/A                                        |            Nebraska            |\n",
            "| 14 | WeatherForecastAndClimateConditions | DroughtAndDryConditions > Locations > {'State': 'Minnesota', 'Details': 'Reported less than one-tenth of an inch of rain during the first 19 days of October', 'Date': 'October 19, 2024'} |           Extracted Locations: Minnesota            |  Minnesota   |     MN     |  N/A   |    N/A     |                                    Continental                                    |  Minnesota, Continental Zone   |\n",
            "| 15 | WeatherForecastAndClimateConditions |           HighTemperatures > Locations > {'State': 'Arizona', 'Details': 'Triple-digit heat occurred on each of the first 13 days of October in Tucson', 'Date': 'October 2024'}           |        Extracted Locations: Arizona, Tucson         |   Arizona    |     AZ     |  N/A   |   Tucson   |                                       Arid                                        |      Tucson, Arizona, USA      |\n",
            "| 16 | WeatherForecastAndClimateConditions |                 HighTemperatures > Locations > {'State': 'Texas', 'Details': 'Austin set a monthly record with a high of 101°F on October 13', 'Date': 'October 13, 2024'}                 |         Extracted Locations: Texas, Austin          |    Texas     |     TX     |  N/A   |   Austin   |                                    Subtropical                                    |       Austin, Texas, USA       |\n",
            "| 17 | WeatherForecastAndClimateConditions |                HighTemperatures > Locations > {'State': 'Texas', 'Details': 'Houston tied a monthly record with a high of 99°F on October 14', 'Date': 'October 14, 2024'}                 |         Extracted Locations: Texas, Houston         |    Texas     |     TX     |  N/A   |  Houston   |                                    Subtropical                                    |         Houston, Texas         |\n",
            "| 18 | WeatherForecastAndClimateConditions |        HighTemperatures > Locations > {'State': 'Texas', 'Details': 'Waco set multiple records with highs of 104°F and 100°F on October 13 and 15', 'Date': 'October 13-15, 2024'}         |          Extracted Locations: Texas, Waco           |    Texas     |     TX     |  N/A   |    Waco    |                                    Subtropical                                    |        Waco, Texas, USA        |\n",
            "| 19 | WeatherForecastAndClimateConditions |              HighTemperatures > Locations > {'State': 'South Dakota', 'Details': 'Record-breaking highs for October 17 soared to 90°F in Pierre', 'Date': 'October 17, 2024'}              |      Extracted Locations: South Dakota, Pierre      | South Dakota |     SD     |  N/A   |   Pierre   |                                    Continental                                    |   Pierre, South Dakota, USA    |\n",
            "| 20 | WeatherForecastAndClimateConditions |                StrongWinds > Locations > {'State': 'Hawaii', 'Details': 'Kahului clocked peak gusts to 46 and 48 mph on October 15 and 16', 'Date': 'October 15-16, 2024'}                 |        Extracted Locations: Hawaii, Kahului         |    Hawaii    |     HI     |  N/A   |  Kahului   |                                     Tropical                                      |      Kahului, Hawaii, USA      |\n",
            "+----+-------------------------------------+--------------------------------------------------------------------------------------------------------------------------------------------------------------------------------------------+-----------------------------------------------------+--------------+------------+--------+------------+-----------------------------------------------------------------------------------+--------------------------------+\n"
          ]
        }
      ],
      "source": [
        "# Mapping of US state names to their codes\n",
        "state_name_to_code = {\n",
        "    \"Alabama\": \"AL\", \"Alaska\": \"AK\", \"Arizona\": \"AZ\", \"Arkansas\": \"AR\", \"California\": \"CA\", \"Colorado\": \"CO\",\n",
        "    \"Connecticut\": \"CT\", \"Delaware\": \"DE\", \"Florida\": \"FL\", \"Georgia\": \"GA\", \"Hawaii\": \"HI\", \"Idaho\": \"ID\",\n",
        "    \"Illinois\": \"IL\", \"Indiana\": \"IN\", \"Iowa\": \"IA\", \"Kansas\": \"KS\", \"Kentucky\": \"KY\", \"Louisiana\": \"LA\",\n",
        "    \"Maine\": \"ME\", \"Maryland\": \"MD\", \"Massachusetts\": \"MA\", \"Michigan\": \"MI\", \"Minnesota\": \"MN\",\n",
        "    \"Mississippi\": \"MS\", \"Missouri\": \"MO\", \"Montana\": \"MT\", \"Nebraska\": \"NE\", \"Nevada\": \"NV\", \"New Hampshire\": \"NH\",\n",
        "    \"New Jersey\": \"NJ\", \"New Mexico\": \"NM\", \"New York\": \"NY\", \"North Carolina\": \"NC\", \"North Dakota\": \"ND\",\n",
        "    \"Ohio\": \"OH\", \"Oklahoma\": \"OK\", \"Oregon\": \"OR\", \"Pennsylvania\": \"PA\", \"Rhode Island\": \"RI\", \"South Carolina\": \"SC\",\n",
        "    \"South Dakota\": \"SD\", \"Tennessee\": \"TN\", \"Texas\": \"TX\", \"Utah\": \"UT\", \"Vermont\": \"VT\", \"Virginia\": \"VA\",\n",
        "    \"Washington\": \"WA\", \"West Virginia\": \"WV\", \"Wisconsin\": \"WI\", \"Wyoming\": \"WY\"\n",
        "}\n",
        "\n",
        "# get state code from state name\n",
        "def get_state_code(state_name):\n",
        "    return state_name_to_code.get(state_name, \"N/A\")\n",
        "\n",
        "df_final_output['state_code'] = df_final_output['state'].apply(get_state_code)\n",
        "\n",
        "state_index = df_final_output.columns.get_loc('state') + 1\n",
        "df_final_output.insert(state_index, 'state_code', df_final_output.pop('state_code'))\n",
        "\n",
        "print(\"\\Results with all locations:\")\n",
        "print(tabulate(df_final_output, headers='keys', tablefmt='pretty'))"
      ]
    },
    {
      "cell_type": "code",
      "execution_count": null,
      "metadata": {
        "id": "fJPqzLrRsmTU"
      },
      "outputs": [],
      "source": [
        "df_final_output.to_csv('/content/drive/MyDrive/FYP /AI Alignment/Test/data/preprocessing.csv')"
      ]
    },
    {
      "cell_type": "code",
      "execution_count": null,
      "metadata": {
        "id": "bQBI0WwbXIDg"
      },
      "outputs": [],
      "source": []
    }
  ],
  "metadata": {
    "colab": {
      "provenance": []
    },
    "kernelspec": {
      "display_name": "Python 3",
      "name": "python3"
    },
    "language_info": {
      "name": "python"
    }
  },
  "nbformat": 4,
  "nbformat_minor": 0
}
